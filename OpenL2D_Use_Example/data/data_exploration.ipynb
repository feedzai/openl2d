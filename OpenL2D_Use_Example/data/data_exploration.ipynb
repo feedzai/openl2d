{
 "cells": [
  {
   "cell_type": "code",
   "execution_count": null,
   "metadata": {},
   "outputs": [
    {
     "name": "stdout",
     "output_type": "stream",
     "text": [
      "Line to drop:  |1x3 Cross validator\n",
      "\n",
      "Training instances last index: 30161\n"
     ]
    }
   ],
   "source": [
    "import pandas as pd\n",
    "import numpy as np\n",
    "\n",
    "#The files adult.data and adult.test were extracted from the file 'adult.zip', \n",
    "#available at the UCI Machine Learning Repository https://archive.ics.uci.edu/dataset/2/adult\n",
    "\n",
    "data_split = pd.read_csv('adult.data', header=None)\n",
    "\n",
    "with open('adult.test', 'r') as file:\n",
    "    first_line = file.readline()\n",
    "    print(\"Line to drop: \", first_line)\n",
    "\n",
    "test_split = pd.read_csv('adult.test', header=None, skiprows=1)\n",
    "\n",
    "#Column names as shown in https://archive.ics.uci.edu/dataset/2/adult\n",
    "column_names = [\n",
    "    \"age\",\n",
    "    \"workclass\",\n",
    "    \"fnlwgt\",\n",
    "    \"education\",\n",
    "    \"education_num\",\n",
    "    \"marital_status\",\n",
    "    \"occupation\",\n",
    "    \"relationship\",\n",
    "    \"race\",\n",
    "    \"sex\",\n",
    "    \"capital_gain\",\n",
    "    \"capital_loss\",\n",
    "    \"hours_per_week\",\n",
    "    \"native_country\",\n",
    "    \"income\"\n",
    "]\n",
    "\n",
    "data_split.columns = column_names\n",
    "test_split.columns = column_names\n",
    "\n",
    "#And, for simplicity, we drop the missing values identified by the ' ?' string.\n",
    "data_split.replace(' ?', np.nan, inplace=True)\n",
    "data_split.dropna(inplace=True) \n",
    "\n",
    "test_split.replace(' ?', np.nan, inplace=True)\n",
    "test_split.dropna(inplace=True)\n",
    "\n",
    "print('Training instances last index:', len(data_split)-1)\n",
    "# Instances up to the index 30162 (not including) will be training instances\n",
    "# Instances from the index 30162 will be training instances\n",
    "\n",
    "combined_data = pd.concat([data_split, test_split], ignore_index=True)\n",
    "combined_data.reset_index(drop=True, inplace=True)"
   ]
  },
  {
   "cell_type": "code",
   "execution_count": 154,
   "metadata": {},
   "outputs": [
    {
     "data": {
      "text/plain": [
       "income\n",
       "<=50K     22654\n",
       "<=50K.    11360\n",
       ">50K       7508\n",
       ">50K.      3700\n",
       "Name: count, dtype: int64"
      ]
     },
     "execution_count": 154,
     "metadata": {},
     "output_type": "execute_result"
    }
   ],
   "source": [
    "combined_data.value_counts('income')"
   ]
  },
  {
   "cell_type": "code",
   "execution_count": 155,
   "metadata": {},
   "outputs": [],
   "source": [
    "#Now we convert the dataset's label to a binary one\n",
    "combined_data['income'] = combined_data['income'].apply(lambda x: 1 if (x == ' >50K') or (x == ' >50K.') else 0)\n",
    "#We will also create a new column which binarizes the \"race\" column into \"White\" and \"Non-White\" citizens.\n",
    "combined_data[\"binarized_race\"] = combined_data['race'].apply(lambda x: 'White' if x == ' White' else 'Non-White')\n",
    "# and we reorder the columns so that binarized_race appears next to the race column\n",
    "cols = column_names[:9] + ['binarized_race'] + column_names[9:]\n",
    "combined_data = combined_data[cols]\n",
    "\n",
    "#We also drop the column \"education\" as it is redundant due to the \"education_num\" column, as well as the column \"race\", which we have binarized\n",
    "combined_data.drop(columns=['education','race'], inplace=True)\n",
    "#Furthermore, if we treat the education as a numerical value, we can induce bias, for example, more false positives for people with a higher education level."
   ]
  },
  {
   "cell_type": "code",
   "execution_count": 156,
   "metadata": {},
   "outputs": [],
   "source": [
    "#We will alter this column so it does not serve as a proxy for sex\n",
    "combined_data[\"relationship\"] = combined_data['relationship'].apply(lambda x: ' Married' if (x == ' Wife') or (x == ' Husband') else x)"
   ]
  },
  {
   "cell_type": "code",
   "execution_count": 157,
   "metadata": {},
   "outputs": [],
   "source": [
    "#Now, similarly to what was done in the FiFAR dataset generation, we must define the dataset.cfg file.\n",
    "config = dict()\n",
    "#Let us start by first defining which columns correspond to the categorical variables, protected attributes, and labels\n",
    "config[\"data_cols\"] = dict()\n",
    "\n",
    "config[\"data_cols\"][\"categorical\"] = [\"workclass\", \"marital_status\", \"occupation\", \"relationship\", \"binarized_race\", \"sex\", \"native_country\"]\n",
    "\n",
    "#We must also define the \"categorical_dict\", which is a dictionary where each key is a categorical column name and the value is a list with the possible values for that column.\n",
    "\n",
    "config[\"categorical_dict\"] = dict()\n",
    "for col in config[\"data_cols\"][\"categorical\"]:\n",
    "    config[\"categorical_dict\"][col] = combined_data[col].unique().tolist()"
   ]
  },
  {
   "cell_type": "code",
   "execution_count": 158,
   "metadata": {},
   "outputs": [],
   "source": [
    "config[\"data_cols\"][\"protected\"] = [{\"feature\": \"sex\", \"type\": \"categorical\", \"protected_class\": \" Female\"},\n",
    "                                    {\"feature\": \"binarized_race\", \"type\": \"categorical\", \"protected_class\": \"Non-White\"},\n",
    "                                    {\"feature\": \"age\", \"type\": \"numeric\", \"protected_threshold\": 50, \"protected_class\": \"higher\"}]\n",
    "\n",
    "config[\"data_cols\"][\"label\"] = \"income\""
   ]
  },
  {
   "cell_type": "code",
   "execution_count": 159,
   "metadata": {},
   "outputs": [],
   "source": [
    "import yaml\n",
    "\n",
    "with open('dataset_cfg.yaml', 'w') as file:\n",
    "    yaml.dump(config, file)\n",
    "\n",
    "#Finally, we save the dataset as a parquet file\n",
    "combined_data.to_parquet('preprocessed.parquet')"
   ]
  }
 ],
 "metadata": {
  "kernelspec": {
   "display_name": "genai-notes-summarization-env",
   "language": "python",
   "name": "python3"
  },
  "language_info": {
   "codemirror_mode": {
    "name": "ipython",
    "version": 3
   },
   "file_extension": ".py",
   "mimetype": "text/x-python",
   "name": "python",
   "nbconvert_exporter": "python",
   "pygments_lexer": "ipython3",
   "version": "3.12.4"
  }
 },
 "nbformat": 4,
 "nbformat_minor": 2
}
